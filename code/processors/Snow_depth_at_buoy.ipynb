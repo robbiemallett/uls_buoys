{
 "cells": [
  {
   "cell_type": "code",
   "execution_count": 1,
   "id": "398b5cdf",
   "metadata": {},
   "outputs": [],
   "source": [
    "import numpy as np"
   ]
  },
  {
   "cell_type": "code",
   "execution_count": 9,
   "id": "a12d96e3",
   "metadata": {},
   "outputs": [],
   "source": [
    "from netCDF4 import Dataset\n",
    "\n",
    "from ll_xy import lonlat_to_xy\n",
    "from scipy.spatial.kdtree import KDTree"
   ]
  },
  {
   "cell_type": "markdown",
   "id": "b11d9242",
   "metadata": {},
   "source": [
    "# Buoy locations"
   ]
  },
  {
   "cell_type": "code",
   "execution_count": 11,
   "id": "46b69403",
   "metadata": {},
   "outputs": [],
   "source": [
    "locations = {'a':(75,-152),\n",
    "             'b':(78,-150),\n",
    "             'd':(74,-140),\n",
    "            }\n",
    "loc_xy = {}\n",
    "for loc in locations.keys():\n",
    "    \n",
    "    x,y = lonlat_to_xy(np.array(locations[loc][1]),\n",
    "                       np.array(locations[loc][0]),\n",
    "                       hemisphere='n')\n",
    "    loc_xy[loc] = (x,y)\n"
   ]
  },
  {
   "cell_type": "markdown",
   "id": "9e9e9573",
   "metadata": {},
   "source": [
    "# Get index of nearest EASE1 grid cell"
   ]
  },
  {
   "cell_type": "code",
   "execution_count": 22,
   "id": "11bee057",
   "metadata": {},
   "outputs": [
    {
     "name": "stderr",
     "output_type": "stream",
     "text": [
      "/home/robbie/anaconda3/lib/python3.7/site-packages/ipykernel_launcher.py:3: DeprecationWarning: `np.bool` is a deprecated alias for the builtin `bool`. To silence this warning, use `bool` by itself. Doing this will not modify any behavior and is safe. If you specifically wanted the numpy scalar type, use `np.bool_` here.\n",
      "Deprecated in NumPy 1.20; for more details and guidance: https://numpy.org/devdocs/release/1.20.0-notes.html#deprecations\n",
      "  This is separate from the ipykernel package so we can avoid doing imports until\n",
      "/home/robbie/anaconda3/lib/python3.7/site-packages/ipykernel_launcher.py:4: DeprecationWarning: `np.bool` is a deprecated alias for the builtin `bool`. To silence this warning, use `bool` by itself. Doing this will not modify any behavior and is safe. If you specifically wanted the numpy scalar type, use `np.bool_` here.\n",
      "Deprecated in NumPy 1.20; for more details and guidance: https://numpy.org/devdocs/release/1.20.0-notes.html#deprecations\n",
      "  after removing the cwd from sys.path.\n"
     ]
    }
   ],
   "source": [
    "d = Dataset('../../data/W99/W99_361.nc')\n",
    "\n",
    "e2_lon = np.array(d['lon'])\n",
    "e2_lat = np.array(d['lat'])\n",
    "\n",
    "e2_x, e2_y = lonlat_to_xy(e2_lon,e2_lat,hemisphere='n')\n",
    "\n",
    "tree = KDTree(list(zip(e2_x.ravel(),e2_y.ravel())))\n",
    "\n",
    "ease_inds = {}\n",
    "for buoy, (x,y) in loc_xy.items():\n",
    "\n",
    "    dist, ind = tree.query([x,y])\n",
    "\n",
    "    ind2d = np.unravel_index(ind, (361,361))\n",
    "    \n",
    "    ease_inds[buoy] = ind2d"
   ]
  },
  {
   "cell_type": "markdown",
   "id": "29671701",
   "metadata": {},
   "source": [
    "# Find snow depth at nearest grid cell"
   ]
  },
  {
   "cell_type": "code",
   "execution_count": 23,
   "id": "ce64650c",
   "metadata": {},
   "outputs": [
    {
     "name": "stderr",
     "output_type": "stream",
     "text": [
      "/home/robbie/anaconda3/lib/python3.7/site-packages/ipykernel_launcher.py:1: DeprecationWarning: `np.bool` is a deprecated alias for the builtin `bool`. To silence this warning, use `bool` by itself. Doing this will not modify any behavior and is safe. If you specifically wanted the numpy scalar type, use `np.bool_` here.\n",
      "Deprecated in NumPy 1.20; for more details and guidance: https://numpy.org/devdocs/release/1.20.0-notes.html#deprecations\n",
      "  \"\"\"Entry point for launching an IPython kernel.\n"
     ]
    },
    {
     "data": {
      "text/plain": [
       "0.2401371127485202"
      ]
     },
     "execution_count": 23,
     "metadata": {},
     "output_type": "execute_result"
    }
   ],
   "source": [
    "snow_depth = np.array(d['depth'])[1]\n",
    "\n",
    "snow_depth_buoy_a = snow_depth[ease_inds['a']]\n",
    "snow_depth_buoy_a"
   ]
  },
  {
   "cell_type": "code",
   "execution_count": null,
   "id": "4e700e98",
   "metadata": {},
   "outputs": [],
   "source": []
  }
 ],
 "metadata": {
  "kernelspec": {
   "display_name": "Python 3 (ipykernel)",
   "language": "python",
   "name": "python3"
  },
  "language_info": {
   "codemirror_mode": {
    "name": "ipython",
    "version": 3
   },
   "file_extension": ".py",
   "mimetype": "text/x-python",
   "name": "python",
   "nbconvert_exporter": "python",
   "pygments_lexer": "ipython3",
   "version": "3.7.10"
  }
 },
 "nbformat": 4,
 "nbformat_minor": 5
}
